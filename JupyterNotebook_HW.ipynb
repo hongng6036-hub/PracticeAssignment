{
 "cells": [
  {
   "cell_type": "markdown",
   "id": "4a91a039",
   "metadata": {},
   "source": [
    "<h1 style=\"font-size=3rem;color=green;\">This is Hong's practice assignment</h1>"
   ]
  },
  {
   "cell_type": "markdown",
   "id": "f5ca5c3d",
   "metadata": {},
   "source": [
    "# 1. Accept the user's first and last name and print them in reverse order with a space between them\n"
   ]
  },
  {
   "cell_type": "code",
   "execution_count": 1,
   "id": "9792ef1e",
   "metadata": {},
   "outputs": [
    {
     "name": "stdout",
     "output_type": "stream",
     "text": [
      "Enter your first name: Hong\n"
     ]
    }
   ],
   "source": [
    "#Assign the user's input to the variable firstName\n",
    "\n",
    "firstName = input(\"Enter your first name: \")"
   ]
  },
  {
   "cell_type": "code",
   "execution_count": 2,
   "id": "2a2b2e1e",
   "metadata": {},
   "outputs": [
    {
     "name": "stdout",
     "output_type": "stream",
     "text": [
      "Enter your last name: Nguyen\n"
     ]
    }
   ],
   "source": [
    "#Assign the user's input to the variable lastName\n",
    "\n",
    "lastName = input(\"Enter your last name: \")"
   ]
  },
  {
   "cell_type": "markdown",
   "id": "17b95b14",
   "metadata": {},
   "source": [
    "<h3> Print out the First name and Last name in reverse order </h3>"
   ]
  },
  {
   "cell_type": "code",
   "execution_count": 3,
   "id": "37e963ca",
   "metadata": {},
   "outputs": [
    {
     "name": "stdout",
     "output_type": "stream",
     "text": [
      "Nguyen Hong\n"
     ]
    }
   ],
   "source": [
    "print(lastName + \" \" + firstName)"
   ]
  },
  {
   "cell_type": "markdown",
   "id": "fc006c79",
   "metadata": {},
   "source": [
    "# 2. Accept an integer (n) input from the user and compute the value of n+nn+nnn. For example if n=4 then n + nn + nnn = 4 + 44 + 444 = 492\n",
    "\n",
    "<h3>Accept an integer input from the user</h3>"
   ]
  },
  {
   "cell_type": "code",
   "execution_count": 4,
   "id": "6840d60b",
   "metadata": {},
   "outputs": [
    {
     "name": "stdout",
     "output_type": "stream",
     "text": [
      "Enter a number: 4\n"
     ]
    }
   ],
   "source": [
    "n = int(input(\"Enter a number: \"))"
   ]
  },
  {
   "cell_type": "markdown",
   "id": "eea58f2c",
   "metadata": {},
   "source": [
    "<h3> Compute math operation</h3>"
   ]
  },
  {
   "cell_type": "code",
   "execution_count": 5,
   "id": "4b1d0a84",
   "metadata": {},
   "outputs": [],
   "source": [
    "# Turn n to a string. Add the two \"n\" strings together to be \"nn\" and assign it to variable n2\n",
    "n2 = str(n) + str(n)"
   ]
  },
  {
   "cell_type": "code",
   "execution_count": 6,
   "id": "9f93dac8",
   "metadata": {},
   "outputs": [],
   "source": [
    "# Turn n to a string. Add the three \"n\" strings together to be \"nnn\" and assign it to variable n3\n",
    "n3 = str(n) + str(n) + str(n)"
   ]
  },
  {
   "cell_type": "code",
   "execution_count": 7,
   "id": "f0d8575c",
   "metadata": {},
   "outputs": [],
   "source": [
    "# Turn n2 and n3 back to integers and add it to the integer n. Assign the value to the variable result\n",
    "result = n + int(n2) + int(n3)"
   ]
  },
  {
   "cell_type": "code",
   "execution_count": 8,
   "id": "70199177",
   "metadata": {},
   "outputs": [
    {
     "name": "stdout",
     "output_type": "stream",
     "text": [
      "492\n"
     ]
    }
   ],
   "source": [
    "# Print the value of the variable result\n",
    "print(result)"
   ]
  },
  {
   "cell_type": "markdown",
   "id": "6e6ca8cc",
   "metadata": {},
   "source": [
    "# 3. Ask the user \"What country are you from?\" then print the following statement: \"I have heard that [input] is a beautiful country!\""
   ]
  },
  {
   "cell_type": "code",
   "execution_count": 10,
   "id": "5d56f557",
   "metadata": {},
   "outputs": [
    {
     "name": "stdout",
     "output_type": "stream",
     "text": [
      "What country are you from? France\n"
     ]
    }
   ],
   "source": [
    "# Ask user a question and assign the anwer/input into the variable userCountry\n",
    "userCountry = input(\"What country are you from? \")"
   ]
  },
  {
   "cell_type": "code",
   "execution_count": 11,
   "id": "7a07ea1b",
   "metadata": {},
   "outputs": [
    {
     "name": "stdout",
     "output_type": "stream",
     "text": [
      "I have heard that France is a beautiful contry!\n"
     ]
    }
   ],
   "source": [
    "# Print the statement but insert the variable in between the string. \n",
    "print(\"I have heard that \" + userCountry + \" is a beautiful contry!\")"
   ]
  },
  {
   "cell_type": "markdown",
   "id": "21adffbe",
   "metadata": {},
   "source": [
    "# 4. What is the output of the following Python code\n",
    "\n",
    "x = 10\n",
    "y = 50\n",
    "if (x ** 2 > 100 and y < 100):\n",
    "    print(x, y)"
   ]
  },
  {
   "cell_type": "code",
   "execution_count": 12,
   "id": "257f7e83",
   "metadata": {},
   "outputs": [],
   "source": [
    "# Assign the value 10 to the variable x\n",
    "x = 10"
   ]
  },
  {
   "cell_type": "code",
   "execution_count": 13,
   "id": "18cb47c5",
   "metadata": {},
   "outputs": [],
   "source": [
    "# Assign the value 50 to the varaible y\n",
    "y = 50"
   ]
  },
  {
   "cell_type": "markdown",
   "id": "cf2196d7",
   "metadata": {},
   "source": [
    "### Create an \"if\" loop that prints out the output if the conditions are true."
   ]
  },
  {
   "cell_type": "code",
   "execution_count": 17,
   "id": "41760cbf",
   "metadata": {},
   "outputs": [],
   "source": [
    "# x**2 is x with the exponent 2. So if 10^2 = 100 less than 100.\n",
    "\n",
    "if (x ** 2 > 100 and y < 100): \n",
    "    # identation indicates code block\n",
    "    print(x, y)"
   ]
  },
  {
   "cell_type": "code",
   "execution_count": 18,
   "id": "45a9fb2a",
   "metadata": {},
   "outputs": [],
   "source": [
    "# Output is nothing becasuse x**2 returns 100 which is less than 100. \n",
    "# Thus, this loop returns false and doesn't print out anything.\n",
    "# However, if the loop returned true then the output should be 10 50."
   ]
  },
  {
   "cell_type": "markdown",
   "id": "32f7d4de",
   "metadata": {},
   "source": [
    "# 5. What is the output of the following addition (+) operator, and why does this code chunk execute this way?\n",
    "\n",
    "a = [10, 20]\n",
    "b = a\n",
    "b += [30, 40]\n",
    "print(a)\n",
    "print(b)"
   ]
  },
  {
   "cell_type": "markdown",
   "id": "f9262837",
   "metadata": {},
   "source": [
    "### Create a list of integers!"
   ]
  },
  {
   "cell_type": "code",
   "execution_count": 27,
   "id": "750fa946",
   "metadata": {},
   "outputs": [],
   "source": [
    "# Make list of two integers\n",
    "a = [10, 20]"
   ]
  },
  {
   "cell_type": "code",
   "execution_count": 28,
   "id": "1e352254",
   "metadata": {},
   "outputs": [],
   "source": [
    "# Declare a variable b and have it equals to our list 'a'\n",
    "b = a"
   ]
  },
  {
   "cell_type": "code",
   "execution_count": 29,
   "id": "4c525dcd",
   "metadata": {},
   "outputs": [],
   "source": [
    "# Add two more integers to the list 'b'\n",
    "b += [30, 40]"
   ]
  },
  {
   "cell_type": "code",
   "execution_count": 30,
   "id": "3863df87",
   "metadata": {},
   "outputs": [
    {
     "name": "stdout",
     "output_type": "stream",
     "text": [
      "[10, 20, 30, 40]\n",
      "[10, 20, 30, 40]\n"
     ]
    }
   ],
   "source": [
    "#Print your list 'a' and 'b'\n",
    "print(a)\n",
    "print(b)"
   ]
  },
  {
   "cell_type": "markdown",
   "id": "703d8cd1",
   "metadata": {},
   "source": [
    "# 6. What is the output of the following code and what arithmetic operators is being used here? \n",
    "\n",
    "### print(2%6)"
   ]
  },
  {
   "cell_type": "code",
   "execution_count": 32,
   "id": "6e4d2e65",
   "metadata": {},
   "outputs": [
    {
     "name": "stdout",
     "output_type": "stream",
     "text": [
      "2\n"
     ]
    }
   ],
   "source": [
    "# Print out the remainder after we divide 2 by 6.\n",
    "print(2%6)"
   ]
  },
  {
   "cell_type": "markdown",
   "id": "2b12ed9c",
   "metadata": {},
   "source": [
    "# 7. What is the output of the following code and what arithmetic operators are used here? \n",
    "### print(2 * 3 ** 3 * 4)"
   ]
  },
  {
   "cell_type": "code",
   "execution_count": 35,
   "id": "a86402a9",
   "metadata": {},
   "outputs": [
    {
     "name": "stdout",
     "output_type": "stream",
     "text": [
      "216\n"
     ]
    }
   ],
   "source": [
    "# Print the math expression 2* (3^2) * 4\n",
    "print(2 * 3 ** 3 * 4)"
   ]
  },
  {
   "cell_type": "markdown",
   "id": "cae7164e",
   "metadata": {},
   "source": [
    "# 8. What is a text editor?"
   ]
  },
  {
   "cell_type": "markdown",
   "id": "889b60c2",
   "metadata": {},
   "source": [
    "It's an application that your write your code in!\n",
    "It's pretty much your development environment where you write, edit, and delete your code."
   ]
  },
  {
   "cell_type": "markdown",
   "id": "c7b89b5b",
   "metadata": {},
   "source": [
    "# 9. What is python?"
   ]
  },
  {
   "cell_type": "markdown",
   "id": "9f8735cd",
   "metadata": {},
   "source": [
    "Python is a programming language!\n",
    "<br>\n",
    "Fun fact: Python is inrepreted rather than compiled, meaning it gets executed line by line."
   ]
  },
  {
   "cell_type": "markdown",
   "id": "5edbc856",
   "metadata": {},
   "source": [
    "# 10. What is jupyter notebook, what type of python environment is it, and what alternatives are there to jupyter notebook?"
   ]
  },
  {
   "cell_type": "markdown",
   "id": "d4f0c075",
   "metadata": {},
   "source": [
    "Jupyter notebook is a web-based interactive development environment.\n",
    "<br><br>\n",
    "Jupyter notebook uses the conda environment.\n",
    "<br><br>\n",
    "Some alternatives to jupyter notebooks include Visual Studio Code, PyCharm (my favorite!),"
   ]
  }
 ],
 "metadata": {
  "kernelspec": {
   "display_name": "Python 3",
   "language": "python",
   "name": "python3"
  },
  "language_info": {
   "codemirror_mode": {
    "name": "ipython",
    "version": 3
   },
   "file_extension": ".py",
   "mimetype": "text/x-python",
   "name": "python",
   "nbconvert_exporter": "python",
   "pygments_lexer": "ipython3",
   "version": "3.8.8"
  }
 },
 "nbformat": 4,
 "nbformat_minor": 5
}
